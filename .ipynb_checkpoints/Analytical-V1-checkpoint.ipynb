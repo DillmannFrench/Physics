{
 "cells": [
  {
   "cell_type": "markdown",
   "metadata": {},
   "source": [
    "# Numerical methods for analytical Chemistry"
   ]
  },
  {
   "cell_type": "code",
   "execution_count": 1,
   "metadata": {},
   "outputs": [],
   "source": [
    "import numpy as np\n",
    "import matplotlib.pyplot as plt\n",
    "from scipy import stats"
   ]
  },
  {
   "cell_type": "code",
   "execution_count": 3,
   "metadata": {},
   "outputs": [],
   "source": [
    "Mole_xi=[0.352, 0.803, 1.08, 1.38, 1.75] # mol/L\n",
    "Peak_yi=[1.09, 1.78, 2.6, 3.03, 4.01] # Log(Io/I)"
   ]
  },
  {
   "cell_type": "markdown",
   "metadata": {},
   "source": [
    "## The graphical display of experimental points"
   ]
  },
  {
   "cell_type": "code",
   "execution_count": 4,
   "metadata": {},
   "outputs": [
    {
     "data": {
      "text/plain": [
       "<function matplotlib.pyplot.show(*args, **kw)>"
      ]
     },
     "execution_count": 4,
     "metadata": {},
     "output_type": "execute_result"
    },
    {
     "data": {
      "image/png": "[encoded data removed]",
      "text/plain": [
       "<Figure size 432x288 with 1 Axes>"
      ]
     },
     "metadata": {
      "needs_background": "light"
     },
     "output_type": "display_data"
    }
   ],
   "source": [
    "plt.scatter(Mole_xi,Peak_yi,marker='+',color='blue')\n",
    "plt.show"
   ]
  },
  {
   "cell_type": "markdown",
   "metadata": {},
   "source": [
    "## Introducing statistics for regression"
   ]
  },
  {
   "cell_type": "code",
   "execution_count": 214,
   "metadata": {},
   "outputs": [],
   "source": [
    "xi=np.array(Mole_xi)"
   ]
  },
  {
   "cell_type": "code",
   "execution_count": 215,
   "metadata": {},
   "outputs": [],
   "source": [
    "yi=np.array(Peak_yi)"
   ]
  },
  {
   "cell_type": "code",
   "execution_count": 229,
   "metadata": {},
   "outputs": [
    {
     "data": {
      "text/plain": [
       "<function matplotlib.pyplot.show(*args, **kw)>"
      ]
     },
     "execution_count": 229,
     "metadata": {},
     "output_type": "execute_result"
    },
    {
     "data": {
      "image/png": "[encoded data removed]",
      "text/plain": [
       "<Figure size 432x288 with 1 Axes>"
      ]
     },
     "metadata": {
      "needs_background": "light"
     },
     "output_type": "display_data"
    }
   ],
   "source": [
    "# Linear least-squares regression\n",
    "a, b, r, p, err = stats.linregress(xi,yi)\n",
    "\n",
    "plt.scatter(xi,yi,marker='+',color='blue')\n",
    "plt.plot(xi,a*xi+b, color=\"red\")\n",
    "plt.xlabel(\"Mole percent (fraction) of Isooctane, xi\")\n",
    "plt.ylabel(\"Absorption peak area, yi\")\n",
    "plt.title(\"Calibration curve of the Absorption area \\n as a function of the fraction xi\")\n",
    "plt.show"
   ]
  },
  {
   "cell_type": "code",
   "execution_count": 217,
   "metadata": {},
   "outputs": [
    {
     "name": "stdout",
     "output_type": "stream",
     "text": [
      "The slope (a) is 2.09 in mol-1\n",
      "The y intercept (b) is 0.257 peak area\n",
      "The R2 factor is 0.98771\n"
     ]
    }
   ],
   "source": [
    "print(\"The slope (a) is {:0.3} in mol-1\".format(a))\n",
    "print(\"The y intercept (b) is {:0.3} peak area\".format(b))\n",
    "print(\"The R2 factor is {:0.5}\".format(r**2))"
   ]
  },
  {
   "cell_type": "markdown",
   "metadata": {},
   "source": [
    "We can first define a total sum of the squares of the residuals $\\mathrm{SS}_{resid}$ as \n",
    "$$ \\mathrm{SS}_{resid} = \\sum_{i=1}^{N}{\\big[y_i-(b+m.x_i)\\big]^2} $$"
   ]
  },
  {
   "cell_type": "code",
   "execution_count": 230,
   "metadata": {},
   "outputs": [
    {
     "data": {
      "text/plain": [
       "0.06239056490141155"
      ]
     },
     "execution_count": 230,
     "metadata": {},
     "output_type": "execute_result"
    }
   ],
   "source": [
    "SS_resid=np.sum(([(yi-(b+a*xi))**2]))\n",
    "SS_resid"
   ]
  },
  {
   "cell_type": "markdown",
   "metadata": {},
   "source": [
    "We can also define a total sum of the squares $\\mathrm{SS}_{total}$ as \n",
    "$$ \\mathrm{SS}_{total} = \\sum{(y_i-\\bar{y})^2} = \\sum{y_i^2} - \\frac{(\\sum{y_i})^2}{N} $$"
   ]
  },
  {
   "cell_type": "code",
   "execution_count": 226,
   "metadata": {},
   "outputs": [
    {
     "data": {
      "text/plain": [
       "5.077479999999998"
      ]
     },
     "execution_count": 226,
     "metadata": {},
     "output_type": "execute_result"
    }
   ],
   "source": [
    "SS_total=np.sum([(yi)**2])-(np.sum([(yi)]))**2/(len(yi))\n",
    "SS_total"
   ]
  },
  {
   "cell_type": "code",
   "execution_count": 231,
   "metadata": {},
   "outputs": [
    {
     "name": "stdout",
     "output_type": "stream",
     "text": [
      "The R2 factor is indeed 0.98771\n"
     ]
    }
   ],
   "source": [
    "R2=1-SS_resid/SS_total\n",
    "print(\"The R2 factor is indeed {:0.5}\".format(R2))"
   ]
  },
  {
   "cell_type": "markdown",
   "metadata": {},
   "source": [
    "## Application to Absorption curve"
   ]
  },
  {
   "cell_type": "code",
   "execution_count": 289,
   "metadata": {},
   "outputs": [
    {
     "data": {
      "text/plain": [
       "<function matplotlib.pyplot.show(*args, **kw)>"
      ]
     },
     "execution_count": 289,
     "metadata": {},
     "output_type": "execute_result"
    },
    {
     "data": {
      "image/png": "[encoded data removed]",
      "text/plain": [
       "<Figure size 432x288 with 1 Axes>"
      ]
     },
     "metadata": {
      "needs_background": "light"
     },
     "output_type": "display_data"
    }
   ],
   "source": [
    "# Data\n",
    "C=np.array([1E-5,5E-5,8E-5,1E-4,4E-4])\n",
    "Absorbance=np.array([0.09526716, 0.07909101, 0.12983948, 0.18546004, 0.80539058])\n",
    "\n",
    "fig = plt.figure()\n",
    "ax= fig.add_subplot(1, 1, 1)\n",
    "plt.scatter(C,Absorbance,marker='+',color='blue')\n",
    "ax.set_xlim([0,5E-4])\n",
    "ax.set_ylim([0,9E-1])\n",
    "plt.show()"
   ]
  },
  {
   "cell_type": "code",
   "execution_count": 293,
   "metadata": {},
   "outputs": [
    {
     "data": {
      "text/plain": [
       "<function matplotlib.pyplot.show(*args, **kw)>"
      ]
     },
     "execution_count": 293,
     "metadata": {},
     "output_type": "execute_result"
    },
    {
     "data": {
      "image/png": "[encoded data removed]",
      "text/plain": [
       "<Figure size 432x288 with 1 Axes>"
      ]
     },
     "metadata": {
      "needs_background": "light"
     },
     "output_type": "display_data"
    }
   ],
   "source": [
    "# Linear least-squares regression\n",
    "\n",
    "a, b, r, p, err = stats.linregress(C,Absorbance)\n",
    "\n",
    "\n",
    "\n",
    "\n",
    "\n",
    "fig = plt.figure()\n",
    "ax= fig.add_subplot(1, 1, 1)\n",
    "\n",
    "ax.plot(C,a*C+b, color=\"red\")\n",
    "ax.scatter(C,Absorbance,marker='+',color='blue')\n",
    "ax.set_xlim([0,5E-4])\n",
    "ax.set_ylim([0,9E-1])\n",
    "\n",
    "plt.xlabel(\"Concentration potassium permanganate\")\n",
    "plt.ylabel(\"Absorption\")\n",
    "plt.title(\"Calibration curve of the Absorption \\n as a function of the concentration\")\n",
    "plt.show"
   ]
  },
  {
   "cell_type": "code",
   "execution_count": 295,
   "metadata": {},
   "outputs": [
    {
     "name": "stdout",
     "output_type": "stream",
     "text": [
      "The slope (a) is 1.96e+03 in mol-1\n",
      "The y intercept (b) is 0.00819 and should be zero\n",
      "The R2 factor is 0.98144\n"
     ]
    }
   ],
   "source": [
    "print(\"The slope (a) is {:0.3} in mol-1\".format(a))\n",
    "print(\"The y intercept (b) is {:0.3} and should be zero\".format(b))\n",
    "print(\"The R2 factor is {:0.5}\".format(r**2))"
   ]
  },
  {
   "cell_type": "code",
   "execution_count": 3,
   "metadata": {},
   "outputs": [
    {
     "data": {
      "text/plain": [
       "1.0"
      ]
     },
     "execution_count": 3,
     "metadata": {},
     "output_type": "execute_result"
    }
   ],
   "source": [
    "np.log10(10)"
   ]
  },
  {
   "cell_type": "code",
   "execution_count": 7,
   "metadata": {},
   "outputs": [
    {
     "data": {
      "text/plain": [
       "3.3"
      ]
     },
     "execution_count": 7,
     "metadata": {},
     "output_type": "execute_result"
    }
   ],
   "source": [
    "-np.log10(0.0005011872336272725)"
   ]
  },
  {
   "cell_type": "code",
   "execution_count": 1,
   "metadata": {},
   "outputs": [],
   "source": [
    "# Make a serie of measures"
   ]
  },
  {
   "cell_type": "code",
   "execution_count": 28,
   "metadata": {},
   "outputs": [],
   "source": [
    "import numpy as np\n",
    "\n",
    "Mesures_obtained=np.array([42,53,55, 51, 49, 48, 52, 53,54])"
   ]
  },
  {
   "cell_type": "code",
   "execution_count": 29,
   "metadata": {},
   "outputs": [
    {
     "data": {
      "text/plain": [
       "array([42, 53, 55, 51, 49, 48, 52, 53, 54])"
      ]
     },
     "execution_count": 29,
     "metadata": {},
     "output_type": "execute_result"
    }
   ],
   "source": [
    "Mesures_obtained"
   ]
  },
  {
   "cell_type": "code",
   "execution_count": 30,
   "metadata": {},
   "outputs": [
    {
     "data": {
      "text/plain": [
       "50.77777777777778"
      ]
     },
     "execution_count": 30,
     "metadata": {},
     "output_type": "execute_result"
    }
   ],
   "source": [
    "Mesures_obtained.mean()"
   ]
  },
  {
   "cell_type": "code",
   "execution_count": 31,
   "metadata": {},
   "outputs": [
    {
     "name": "stdout",
     "output_type": "stream",
     "text": [
      " Excel standard deviation STDEVA = 4 \n"
     ]
    }
   ],
   "source": [
    "# Spread of distribution\n",
    "STDEVA=np.std(Mesures_obtained, ddof=1)\n",
    "print(\" Excel standard deviation STDEVA = {:0.0f} \".format(STDEVA))"
   ]
  },
  {
   "cell_type": "code",
   "execution_count": 32,
   "metadata": {},
   "outputs": [
    {
     "data": {
      "text/plain": [
       "3.9930495169036466"
      ]
     },
     "execution_count": 32,
     "metadata": {},
     "output_type": "execute_result"
    }
   ],
   "source": [
    "SUM_SQUARES=np.array((Mesures_obtained-Mesures_obtained.mean())**2)\n",
    "np.sqrt(SUM_SQUARES.sum()/(len(Mesures_obtained)-1))"
   ]
  },
  {
   "cell_type": "code",
   "execution_count": 33,
   "metadata": {},
   "outputs": [
    {
     "name": "stdout",
     "output_type": "stream",
     "text": [
      "1.3310165056345489\n"
     ]
    }
   ],
   "source": [
    "indetemination=STDEVA/np.sqrt(len(Mesures_obtained))\n",
    "print(indetemination)"
   ]
  },
  {
   "cell_type": "code",
   "execution_count": 13,
   "metadata": {},
   "outputs": [
    {
     "data": {
      "text/plain": [
       "4.041451884327381"
      ]
     },
     "execution_count": 13,
     "metadata": {},
     "output_type": "execute_result"
    }
   ],
   "source": [
    "7/np.sqrt(3)"
   ]
  },
  {
   "cell_type": "code",
   "execution_count": null,
   "metadata": {},
   "outputs": [],
   "source": []
  }
 ],
 "metadata": {
  "kernelspec": {
   "display_name": "Python 3",
   "language": "python",
   "name": "python3"
  },
  "language_info": {
   "codemirror_mode": {
    "name": "ipython",
    "version": 3
   },
   "file_extension": ".py",
   "mimetype": "text/x-python",
   "name": "python",
   "nbconvert_exporter": "python",
   "pygments_lexer": "ipython3",
   "version": "3.7.1"
  }
 },
 "nbformat": 4,
 "nbformat_minor": 2
}
