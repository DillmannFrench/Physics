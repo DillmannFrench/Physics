{
 "cells": [
  {
   "cell_type": "markdown",
   "metadata": {},
   "source": [
    "<font color=\"blue\" size=\"4\"> \n",
    "    \n",
    "## Correction \n",
    "    \n",
    "    \n",
    "Paris March the 20th 2021"
   ]
  },
  {
   "cell_type": "markdown",
   "metadata": {},
   "source": [
    "# Enunciate and exploit the Snell-Descartes laws of refraction"
   ]
  },
  {
   "cell_type": "markdown",
   "metadata": {},
   "source": [
    "## Change of propagation medium: refraction and reflection\n",
    "\n",
    "### Diopter crossing separating two different optical index media.\n",
    "\n",
    "How to describe mathematically the phenomenon of refraction?\n",
    "\n",
    "\n",
    "\\begin{eqnarray}\n",
    "n_1.\\sin(i_1) & = & n_2.\\sin(i_2) \\\\\n",
    "i_2 & = & arc\\sin \\Big(\\frac{n_1}{n_2}.\\sin(i_1)\\Big) \\\\\n",
    "\\end{eqnarray}\n",
    "\n",
    "We consider, for the expression of the angle $i_2$ the value\n",
    "\n",
    "`i2 = degrees (asin(n1*(sin(radians(i1))/n2)))`\n",
    "\n",
    " As long as the angle $i_1$ is bellow the critical angle of total internal reflexion.\n",
    "\n",
    "This simulation requires the usage of the specific words included here : \n",
    "\n",
    ">- Interface between two media (Dioptre) and normal axis to this interface\n",
    ">- Incident Ray\n",
    ">- Refracted Ray \n",
    ">- Reflected Ray\n",
    ">- Schematic display\n"
   ]
  },
  {
   "cell_type": "markdown",
   "metadata": {},
   "source": [
    "In this notebook companion we will program optics\n",
    "\n",
    "This notebooks aim at developing a **practical** sense of the fundamental in optics. Do not give up because the code looks too complex. You are guided by questions that focus mostly on the physics of the lecture on *\"Fundamental Optics started the 8th of March 2021\"*. These lessons are illustrated by some python code we are going to put hands on.\n",
    "\n",
    "Remember:\n",
    "\n",
    ">- Make your personal copy of this document by renaming it\n",
    ">- Give a proper answer in the markdown cell that immediately follows the questions. Check that the answer number is correct. The mark \"**Answer n:**\" should never be removed. This is crucial to fetch the corrections. \n",
    ">- It proves to be necessary to modify the code cells: You need extra testing so do not hesitate to copy pieces of code that you understand, to paste them at the right place.\n",
    ">- The cells contain variables and these will not be initialized unless executed one after the other. Do not try to execute the last cell first.\n",
    ">- The code is written with the same structure always, putting the declaration of the constants first on the cell, and the visual display at the end.\n",
    ">- This code has been tested successfully with python 3.6 in early 2021."
   ]
  },
  {
   "cell_type": "code",
   "execution_count": 1,
   "metadata": {},
   "outputs": [],
   "source": [
    "%matplotlib inline"
   ]
  },
  {
   "cell_type": "markdown",
   "metadata": {},
   "source": [
    "### Librairies and visualisation\n",
    "\n",
    "Some cells may contain important libraries to import functions to the workspace. \n",
    "\n",
    "Please run them once each time."
   ]
  },
  {
   "cell_type": "code",
   "execution_count": 2,
   "metadata": {},
   "outputs": [],
   "source": [
    "from __future__ import print_function\n",
    "from ipywidgets import interact, interactive, fixed, interact_manual\n",
    "import ipywidgets as widgets\n",
    "from pylab import *\n",
    "from math import *\n",
    "import matplotlib.pyplot as plt\n",
    "import numpy as py"
   ]
  },
  {
   "cell_type": "markdown",
   "metadata": {},
   "source": [
    "### Initialization of variables\n",
    "In the next cell we must initialize as real numbers all the variables that will be used.\n",
    "\n",
    "#### Question 1)\n",
    "Can you rewrite this cell by defining it no longer as a natural number but as a real number with units written as comments ?\n",
    "\n",
    "Example : \"M_a=1.38 # in mol/L\"\n",
    "\n"
   ]
  },
  {
   "cell_type": "markdown",
   "metadata": {},
   "source": [
    "<font color=\"blue\" size=\"3\"> \n",
    "    \n",
    "#### Answer 1)\n",
    "    \n",
    "## Knindly note that comments help to check units"
   ]
  },
  {
   "cell_type": "code",
   "execution_count": 3,
   "metadata": {},
   "outputs": [],
   "source": [
    "## Declaration of variables\n",
    "\n",
    "i1=30           ## in degrees\n",
    "\n",
    "n1=1.0003       ## is a ratio and therefore has no units\n",
    "\n",
    "n2=1.3          ## is a ration and therefore has no units\n",
    "\n",
    "x=0             ## The normal to the plane\n",
    "\n",
    "y=0             ## The \"dioptre\" or interface\n",
    "\n",
    "x1=5            ## x value of the incident in metric metres or its derivatives\n",
    "\n",
    "y1=8.66        ## y value of the incident in metric metres or its derivatives\n",
    "\n",
    "x2=-3.75        ## x value of the refracted ray in metric metres or its derivatives\n",
    "\n",
    "y2=-9.27        ## y value of the refracted ray in in metric metres or its derivatives"
   ]
  },
  {
   "cell_type": "markdown",
   "metadata": {},
   "source": [
    "## Question 2)\n",
    "This function takes three arguments as input, what is the complete pattern including the normal and the angle with respect to the normal? You will indicate the Cartesian marker on your **schematics and make it available through an interet link as seen in class.**"
   ]
  },
  {
   "cell_type": "markdown",
   "metadata": {},
   "source": [
    "<font color=\"blue\" size=\"3\">\n",
    "    \n",
    "#### Answer 2)\n",
    "\n",
    "In the following picture we consider a reflection on a surface. The core where comes the incident ray and where the reflected ray is, has an refraction index $n1$. The outer medium where the refracted ray as an index $n_2$."
   ]
  },
  {
   "cell_type": "markdown",
   "metadata": {},
   "source": [
    "<p><img src=\"https://act-exp-arduino.pagesperso-orange.fr/schematic.jpg\" alt=\"Test d'entrée\" width=350 /></p>"
   ]
  },
  {
   "cell_type": "markdown",
   "metadata": {},
   "source": [
    "#### Function declaration\n",
    "\n",
    "In the following cell we propose a first function allowing to return a very simplified diagram, illustrating the change of angle of the refracted ray (dotted orange) compared to the incident ray (red) coming from the right. \n",
    "\n"
   ]
  },
  {
   "cell_type": "code",
   "execution_count": 4,
   "metadata": {},
   "outputs": [],
   "source": [
    "def Snell_Descartes(n1,n2,i1):\n",
    "    \"\"\"\n",
    "    La réfraction est modélisée par les lois de Snell-Descartes\n",
    "    \n",
    "    Le rayon réfracté appartient au plan défini par \n",
    "    le rayon incident et la normale à la surface de\n",
    "    séparation\n",
    "    \n",
    "    n1 indice milieu incident (sans unité)\n",
    "    n2 indice milieu refracté (sans unité)\n",
    "    i1 angle du rayon incident (radians ou degrés)\n",
    "    \n",
    "    \n",
    "    utiliser les fonction degrees/radiants pour \n",
    "    verifier que l'on travaille avec le bon type\n",
    "    d'unités\n",
    "    \"\"\"\n",
    "   \n",
    "    axis([-10,10,-10,10])\n",
    "    grid()\n",
    "    axhline(color='c',linewidth=3)\n",
    "    t=np.arange(0,10,0.1)\n",
    "\n",
    "    if n1*(sin(radians(i1))/n2) <= 1:\n",
    "        #BD condition de reflexion partielle\n",
    "        \n",
    "        #coordonées rayon incident\n",
    "        x1=sin(i1/180*pi)*t\n",
    "        y1=cos(i1/180*pi)*t\n",
    "    \n",
    "        #coordonées rayon réfracté\n",
    "        i2 = degrees (asin(n1*(sin(radians(i1))/n2)))\n",
    "        x2=sin(abs(i2)/180*pi)*-t\n",
    "        y2=cos(abs(i2)/180*pi)*-t\n",
    "    \n",
    "        #coordonées rayon réfléchi\n",
    "        x3=sin(abs(i1)/180*pi)*-t\n",
    "        y3=cos(abs(i1)/180*pi)*t\n",
    "        plt.plot(x1,y1,'r-',label=\"rayon incident\")\n",
    "        plt.plot(x3,y3,'--',label=\"rayon reflechi\")\n",
    "        plt.plot(x2,y2,'-.',label=\"rayon refracté\")\n",
    "        \n",
    "\n",
    "        \n",
    "    else:\n",
    "        #il n'y a pas de refraction quand la reflexion est totale \n",
    "        x1=sin(i1/180*pi)*t\n",
    "        y1=cos(i1/180*pi)*t\n",
    "        #coordonées rayon réfléchi en relexion totale\n",
    "        x3=sin(abs(i1)/180*pi)*-t\n",
    "        y3=cos(abs(i1)/180*pi)*t\n",
    "        plt.plot(x1,y1,'-',label=\"rayon incident\")\n",
    "        plt.plot(x3,y3,'-.',label=\"rayon reflechi\")\n",
    "\n",
    "    \n",
    "    #BD you need a plt.legend() \n",
    "    plt.legend(loc='lower right', shadow=True, fontsize='x-large')\n",
    "    plt.title(\"Animation Snell_Descartes\")\n",
    "    plt.show()    "
   ]
  },
  {
   "cell_type": "code",
   "execution_count": 5,
   "metadata": {
    "scrolled": true
   },
   "outputs": [
    {
     "data": {
      "application/vnd.jupyter.widget-view+json": {
       "model_id": "1dc4700340e44a11bd3b83897163e6f1",
       "version_major": 2,
       "version_minor": 0
      },
      "text/plain": [
       "interactive(children=(FloatSlider(value=2.0, description='n1', max=3.0, min=1.0), FloatSlider(value=2.0, descr…"
      ]
     },
     "metadata": {},
     "output_type": "display_data"
    },
    {
     "data": {
      "text/plain": [
       "<function __main__.Snell_Descartes(n1, n2, i1)>"
      ]
     },
     "execution_count": 5,
     "metadata": {},
     "output_type": "execute_result"
    }
   ],
   "source": [
    "\n",
    "interact_manual(Snell_Descartes, i1=(0,90,1), n1=(1,3,0.1), n2=(1,3,0.1))\n"
   ]
  },
  {
   "cell_type": "markdown",
   "metadata": {},
   "source": [
    "### Chalenge the model\n",
    "\n",
    "This simulation is correct from a mathematical point of view, but the physical model may be incomplete or even wrong. You should ask yourself the right questions to chalenge the model.\n",
    "\n",
    "### Question 3) :\n",
    "In the previous simulation for a certain angle of the incident radius or the media index, the refracted radius disappears. Does this seem right from a physical point of view ? Make a statement.\n"
   ]
  },
  {
   "cell_type": "markdown",
   "metadata": {},
   "source": [
    "<font color=\"blue\" size=\"3\">\n",
    "    \n",
    "#### Answer 3)    \n",
    "\n",
    "## The critical angle\n",
    "\n",
    "There is total reflexion and no transmission in case the incident angle is bigger than $\\theta_c$.\n",
    "\n",
    "Above this angle the refracted ray would have to travel inside the plane ($\\theta_r=\\pi/2$). Since this does not seem physically plausible there is no reflexion. \n",
    "\n",
    "In a medium where $n_2 > n_1$ the incident ray is always refracted.\n",
    "\n",
    "Once the angle of incidence exceeds the critical angle, total internal reflection occurs:  the refracted radius disappears.\n",
    "\n",
    "## Wave traveling\n",
    "\n",
    "The rays are models representing wavefront propagating. The wavefront of light can not propagate **tangentially** to the interface. This is because light is an electromagnetic wave and has electric and magnetic boundary conditions.\n",
    "\n"
   ]
  },
  {
   "cell_type": "markdown",
   "metadata": {},
   "source": []
  },
  {
   "cell_type": "markdown",
   "metadata": {},
   "source": [
    "### Question 4) :\n",
    "In the previous simulation, whatever the angle of the incident ray or the index of the media, the reflected ray is always present. Does this seem right from a physical point of view ? Write full sentences\n"
   ]
  },
  {
   "cell_type": "markdown",
   "metadata": {},
   "source": [
    "<font color=\"blue\" size=\"3\">\n",
    "\n",
    "#### Answer 4)\n",
    "\n",
    "\n",
    "# An investigation on reflexion and scattering was expected.\n",
    "\n",
    "\n",
    "## Macroscopic vision: \n",
    "When light goes through the medium some of its energy is absorbed and this results in the refacted ray , the rest of the energy is reflected thus leading to the observed phenomena of a reflected ray. It does seem right from a physical point of view to say \"*the reflected ray is always present*\" since that all matter interacts with light, there is some incident energy will always be lost. It is also true that where the reflection coefficient will equal zero is at the boundary of two media with the exact same indices of refraction where it is specialy difficult to get two or more mediums of same refractive index for a wide range of wavelenghts. The task consisting in adapting these two media is called **matching**, to minimize the loses physics research is involved.\n",
    "\n",
    "\n",
    "##  Aspects explaining intensity changes:\n",
    "There is an electric interaction between the light and the mater.\n",
    "The reflections are indeed linked to the atomic structure of the interfaces and the proper model should be microscopic. On the basis of this atomic scale interaction, some energy will always be lost in the form of attenuation in reflections and refraction intensities. Nevertheless, at a macroscopic level the refraction index are good modelling tools. They can be employed directly into the Snell's law (refraction indexes). This change of intensity is the concern of the scattering parameters ($S_{11}$ and $S_{12}$ respectively)\n",
    "\n",
    "## Advanced considerantion on Fresnel's Law :\n",
    "We call the fraction of the incident power that is reflected from the interface the reflectance (or \"reflectivity\", or \"power reflection coefficient\") **R**, and the fraction that is refracted into the second medium is called the transmittance (or \"transmissivity\", or \"power transmission coefficient\") T . Note that these are what would be measured right at each side of an interface and do not account for attenuation of a wave in an absorbing medium following transmission or reflection.[Wikipedia](https://en.wikipedia.org/wiki/Fresnel_equations)\n",
    "\n",
    "$$R=\\dfrac{n_1-n_2}{n_1+n_2} $$\n"
   ]
  },
  {
   "cell_type": "markdown",
   "metadata": {},
   "source": [
    "### Question 5) : \n",
    "Enhance a simulation by using a conventional model to represent a ray.\n",
    "\n",
    "At the end highschool you got introduced the light rays model. For this purpose the usage of [arrow](https://matplotlib.org/3.1.1/gallery/text_labels_and_annotations/arrow_simple_demo.html#sphx-glr-gallery-text-labels-and-annotations-arrow-simple-demo-py) is recomended. \n",
    "\n",
    "The simulation does not offer a faithful representation of these models. Using the graphical tool of the Matplotlib library called arrow propose your modification of the Snell function to visualize the rays.\n",
    "\n",
    "Propose a new Snell function in the next cell and call this function again to check your result. The application will be done by considering a ray arriving at 45∘ in water after running through air"
   ]
  },
  {
   "cell_type": "markdown",
   "metadata": {},
   "source": [
    "<font color=\"blue\" size=\"3\">\n",
    "    \n",
    "# In oder make the answer as general of possible it is important to pass variables to the functions."
   ]
  },
  {
   "cell_type": "code",
   "execution_count": 6,
   "metadata": {},
   "outputs": [
    {
     "data": {
      "image/png": "[encoded data removed]",
      "text/plain": [
       "<Figure size 432x288 with 1 Axes>"
      ]
     },
     "metadata": {
      "needs_background": "light"
     },
     "output_type": "display_data"
    }
   ],
   "source": [
    "#this is for proving the answer\n",
    "axis([-10,10,-10,10])\n",
    "grid()\n",
    "pi=np.pi\n",
    "\n",
    "r_max=10\n",
    "\n",
    "n1=1.003\n",
    "n2=1.333\n",
    "\n",
    "axhline(color='k',linewidth=3)\n",
    "\n",
    "t=np.arange(0,10,5)\n",
    "\n",
    "i1=60 #incident angle in degres\n",
    "\n",
    "a_i =i1/180*pi\n",
    "a_r= np.arcsin(n1 / n2 * np.sin(a_i))\n",
    "\n",
    "x_i = -sin(a_i)*r_max # incident ray plane x coordinate\n",
    "y_i = cos(a_i)*r_max  # incident ray  y coordinate\n",
    "\n",
    "x_r = sin(a_r)*r_max # refracted ray x coordinate\n",
    "y_r = -cos(a_r)*r_max # refracted ray y coordinate\n",
    "\n",
    "\n",
    "\n",
    "\n",
    "x_incident =[x_i, 0] # x coordinate of incident ray\n",
    "y_incident =[y_i,  0] # y coordinate of incident ray\n",
    "\n",
    "x_reflected =[0,-x_i] # x coordinate of reflected ray\n",
    "y_reflected =[0,y_i] # y coordinate of reflected ray\n",
    "\n",
    "x_refracted =[0,x_r] # x coordinate of reflected ray\n",
    "y_refracted =[0,y_r] # y coordinate of reflected ray\n",
    "\n",
    "\n",
    "\n",
    "\n",
    "plt.plot(x_incident, y_incident, x_reflected,y_reflected,x_refracted,y_refracted)\n",
    "\n",
    "plt.arrow(x_i*0.5, y_i*0.5, -x_i*0.3, -y_i*0.3, width = 0.5, fc='b', ec='b')\n",
    "plt.arrow(0, 0, -x_i*0.3, y_i*0.3, width = 0.5, fc='r', ec='r')\n",
    "plt.arrow(0, 0, x_r*0.3, y_r*0.3, width = 0.5, fc='g', ec='g')\n",
    "\n",
    "plt.show()\n"
   ]
  },
  {
   "cell_type": "code",
   "execution_count": null,
   "metadata": {},
   "outputs": [],
   "source": []
  }
 ],
 "metadata": {
  "kernelspec": {
   "display_name": "Python 3",
   "language": "python",
   "name": "python3"
  },
  "language_info": {
   "codemirror_mode": {
    "name": "ipython",
    "version": 3
   },
   "file_extension": ".py",
   "mimetype": "text/x-python",
   "name": "python",
   "nbconvert_exporter": "python",
   "pygments_lexer": "ipython3",
   "version": "3.7.1"
  },
  "name": "Dillmann"
 },
 "nbformat": 4,
 "nbformat_minor": 4
}
