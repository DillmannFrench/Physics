{
 "cells": [
  {
   "cell_type": "markdown",
   "metadata": {},
   "source": [
    "# Enunciate and exploit the Snell-Descartes laws of refraction"
   ]
  },
  {
   "cell_type": "markdown",
   "metadata": {},
   "source": [
    "## Change of propagation medium: refraction and reflection\n",
    "\n",
    "### Diopter crossing separating two different optical index media.\n",
    "\n",
    "How to describe mathematically the phenomenon of refraction ?\n",
    "\n",
    "\n",
    "\\begin{eqnarray}\n",
    "n_1.\\sin(i_1) & = & n_2.\\sin(i_2) \\\\\n",
    "i_2 & = & \\mathrm{arcsin}\\Big(\\frac{n_1}{n_2}.\\sin(i_1)\\Big) \\\\\n",
    "\\end{eqnarray}\n",
    "\n",
    "We consider, for the expression of the angle $i_2$ the value\n",
    "\n",
    "`i2 = degrees (asin(n1*(sin(radians(i1))/n2)))`\n",
    "\n",
    " As long as the angle $i_1$ is bellow the critical angle of total internal reflexion.\n",
    "\n",
    "This simulation requires the usage of the specific words included here : \n",
    "\n",
    ">- Interface between two media (Dioptre) and normal axis to this interface\n",
    ">- Incident Ray\n",
    ">- Refracted Ray \n",
    ">- Reflected Ray\n",
    ">- Schematic display\n"
   ]
  },
  {
   "cell_type": "markdown",
   "metadata": {},
   "source": [
    "In this notebook companion we will program optics\n",
    "\n",
    "This notebooks aim at developing a **practical** sense of the fundamental in optics. Do not give up because the code looks too complex. You are guided by questions that focus mostly on the physics of the lecture on *\"Fundamental Optics started the 8th of March 2021\"*. These lessons are illustrated by some python code we are going to put hands on.\n",
    "\n",
    "Remember:\n",
    "\n",
    ">- Make your personal copy of this document by renaming it\n",
    ">- Give a proper answer in the markdown cell that immediately follows the questions. Check that the answer number is correct. The mark \"**Answer n:**\" should never be removed. This is crucial to fetch the corrections. \n",
    ">- It proves to be necessary to modify the code cells: You need extra testing so do not hesitate to copy pieces of code that you understand, to paste them at the right place.\n",
    ">- The cells contain variables and these will not be initialized unless executed one after the other. Do not try to execute the last cell first.\n",
    ">- The code is written with the same structure always, putting the declaration of the constants first on the cell, and the visual display at the end.\n",
    ">- This code has been tested successfully with python 3.6 in early 2021."
   ]
  },
  {
   "cell_type": "code",
   "execution_count": 1,
   "metadata": {},
   "outputs": [],
   "source": [
    "%matplotlib inline"
   ]
  },
  {
   "cell_type": "markdown",
   "metadata": {},
   "source": [
    "### Librairies and visualisation\n",
    "\n",
    "Some cells may contain important libraries to import functions to the workspace. \n",
    "\n",
    "Please run them once each time."
   ]
  },
  {
   "cell_type": "code",
   "execution_count": 1,
   "metadata": {},
   "outputs": [],
   "source": [
    "from __future__ import print_function\n",
    "from ipywidgets import interact, interactive, fixed, interact_manual\n",
    "import ipywidgets as widgets\n",
    "from pylab import *\n",
    "from math import *\n",
    "import matplotlib.pyplot as plt\n",
    "import numpy as py"
   ]
  },
  {
   "cell_type": "markdown",
   "metadata": {},
   "source": [
    "### Initialization of variables\n",
    "In the next cell we must initialize as real numbers all the variables that will be used.\n",
    "\n",
    "#### Question 1)\n",
    "Can you rewrite this cell by defining it no longer as a natural number but as a real number with units written as comments ?\n",
    "\n",
    "Example : \"M_a=1.38 # in mol/L\"\n",
    "\n",
    "#### Answer 1)"
   ]
  },
  {
   "cell_type": "markdown",
   "metadata": {},
   "source": []
  },
  {
   "cell_type": "code",
   "execution_count": 2,
   "metadata": {},
   "outputs": [],
   "source": [
    "## Begin Answer 2:\n",
    "n1=1 # Refraction index for the air\n",
    "n2=1.33 # Refraction index\n",
    "x=0\n",
    "y=0\n",
    "x1=0\n",
    "y1=0\n",
    "x2=0\n",
    "y2=0"
   ]
  },
  {
   "cell_type": "code",
   "execution_count": 3,
   "metadata": {},
   "outputs": [],
   "source": [
    "# Variables definition"
   ]
  },
  {
   "cell_type": "markdown",
   "metadata": {},
   "source": [
    "#### Declaration of the function\n",
    "\n",
    "In the following cell we propose a first function allowing to return a very simplified diagram, illustrating the change of angle of the refracted ray (dotted orange) compared to the incident ray (red) coming from the right. \n",
    "\n",
    "\n",
    "## Question 2)\n",
    "This function takes three arguments as input, what is the complete pattern including the normal and the angle with respect to the normal? You will indicate the Cartesian marker on your **schematics and make it available through an interet link as seen in class.**\n",
    "\n",
    "#### Answer 2)"
   ]
  },
  {
   "cell_type": "markdown",
   "metadata": {},
   "source": [
    "    # as a mere example it was taken from my personal work \n",
    "<p><img src=\"https://act-exp-arduino.pagesperso-orange.fr/doigt.jpg\" alt=\"Test\" width=150 /></p>"
   ]
  },
  {
   "cell_type": "code",
   "execution_count": 4,
   "metadata": {},
   "outputs": [],
   "source": [
    "def Snell_Descartes(n1,n2,i1):\n",
    "    \"\"\"\n",
    "    Refraction is modeled by Snell-Descartes laws.\n",
    "    \n",
    "    The refracted ray belongs to the plane defined by \n",
    "    the incident ray and the normal to the surface of the\n",
    "    separation\n",
    "    \n",
    "    n1 incident environment index (without unit)\n",
    "    n2 refracted medium index (without unit)\n",
    "    i1 angle of the incident ray (radians or degrees)\n",
    "    \"\"\"\n",
    "    plt.clf()\n",
    "    axis([-10,10,-10,10])\n",
    "    grid()\n",
    "    axhline(color='c',linewidth=3)\n",
    "    t=np.arange(0,10,0.1)\n",
    "\n",
    "\n",
    "    if n1*(sin(radians(i1))/n2) <= 1:\n",
    "        #condition for having a transmitted ray\n",
    "        \n",
    "        #coordinates of the incident ray\n",
    "        x1=sin(i1/180*pi)*t\n",
    "        y1=cos(i1/180*pi)*t\n",
    "    \n",
    "        #coordinates of the refracted ray\n",
    "        i2 = degrees (asin(n1*(sin(radians(i1))/n2)))\n",
    "        x2=sin(abs(i2)/180*pi)*-t\n",
    "        y2=cos(abs(i2)/180*pi)*-t\n",
    "    \n",
    "        #coordinates of the reflected ray\n",
    "        x3=sin(abs(i1)/180*pi)*-t\n",
    "        y3=cos(abs(i1)/180*pi)*t\n",
    "        \n",
    "        plt.plot(x1,y1,'r-',label=\"incident ray\")\n",
    "        plt.plot(x3,y3,'--',label=\"reflected ray\")\n",
    "        plt.plot(x2,y2,'-.',label=\"refracted ray\")\n",
    "        \n",
    "\n",
    "        \n",
    "    else:\n",
    "        #There is no refraction in the angle is below the critcal angle\n",
    "        x1=sin(i1/180*pi)*t\n",
    "        y1=cos(i1/180*pi)*t\n",
    "        #coordinates of the reflected ray in case of \"total reflexion\"\n",
    "        x3=sin(abs(i1)/180*pi)*-t\n",
    "        y3=cos(abs(i1)/180*pi)*t\n",
    "     \n",
    "        plt.plot(x1,y1,'-',label=\"incident ray\")\n",
    "        plt.plot(x3,y3,'-.',label=\"reflected ray\")\n",
    "\n",
    "    \n",
    "    # you need a plt.legend() \n",
    "    plt.legend(loc='lower right', shadow=True, fontsize='x-large')\n",
    "    plt.title(\"Simulation Snell's law\")\n",
    "    plt.show()    "
   ]
  },
  {
   "cell_type": "code",
   "execution_count": 5,
   "metadata": {},
   "outputs": [
    {
     "data": {
      "application/vnd.jupyter.widget-view+json": {
       "model_id": "5c0f5294ed1b48e3a9871814dd1e2fda",
       "version_major": 2,
       "version_minor": 0
      },
      "text/plain": [
       "interactive(children=(FloatSlider(value=2.0, description='n1', max=3.0, min=1.0), FloatSlider(value=2.0, descr…"
      ]
     },
     "metadata": {},
     "output_type": "display_data"
    },
    {
     "data": {
      "text/plain": [
       "<function __main__.Snell_Descartes(n1, n2, i1)>"
      ]
     },
     "execution_count": 5,
     "metadata": {},
     "output_type": "execute_result"
    }
   ],
   "source": [
    "\n",
    "interact_manual(Snell_Descartes, i1=(0,90,1), n1=(1,3,0.1), n2=(1,3,0.1))\n"
   ]
  },
  {
   "cell_type": "markdown",
   "metadata": {},
   "source": [
    "### Chalenge the model\n",
    "\n",
    "This simulation is correct from a mathematical point of view, but the physical model may be incomplete or even wrong. You should ask yourself the right questions to chalenge the model.\n",
    "\n",
    "### Question 3) :\n",
    "In the previous simulation for a certain angle of the incident radius or the media index, the refracted radius disappears. Does this seem right from a physical point of view ? Make a statement.\n",
    "#### Answer 3)"
   ]
  },
  {
   "cell_type": "markdown",
   "metadata": {},
   "source": []
  },
  {
   "cell_type": "markdown",
   "metadata": {},
   "source": [
    "### Question 4) :\n",
    "In the previous simulation, whatever the angle of the incident ray or the index of the media, the reflected ray is always present. Does this seem right from a physical point of view ? Write full sentences\n",
    "#### Answer 4)"
   ]
  },
  {
   "cell_type": "markdown",
   "metadata": {},
   "source": []
  },
  {
   "cell_type": "markdown",
   "metadata": {},
   "source": [
    "### Question 5) : \n",
    "Enhance a simulation by using a conventional model to represent a ray.\n",
    "\n",
    "The light rays are introduced always moving from left to right, and modeled as a line with a wedge on it.  [arrow](https://matplotlib.org/stable/gallery/text_labels_and_annotations/arrow_simple_demo.html)\n",
    "The simulation does not offer a faithful representation of these models. Using the graphical tool of the Matplotlib library called arrow propose your modification of the Snell function to visualize the rays.\n",
    "\n",
    "\n",
    "Propose a new Snell function in the next cell and call this function again to check your result. The application will be done by considering a ray arriving at 45∘ in water after running through air"
   ]
  },
  {
   "cell_type": "code",
   "execution_count": null,
   "metadata": {},
   "outputs": [],
   "source": []
  }
 ],
 "metadata": {
  "kernelspec": {
   "display_name": "Python 3",
   "language": "python",
   "name": "python3"
  },
  "language_info": {
   "codemirror_mode": {
    "name": "ipython",
    "version": 3
   },
   "file_extension": ".py",
   "mimetype": "text/x-python",
   "name": "python",
   "nbconvert_exporter": "python",
   "pygments_lexer": "ipython3",
   "version": "3.7.1"
  },
  "name": "Dillmann"
 },
 "nbformat": 4,
 "nbformat_minor": 2
}
