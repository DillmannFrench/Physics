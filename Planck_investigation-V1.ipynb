{
 "cells": [
  {
   "cell_type": "code",
   "execution_count": 22,
   "metadata": {},
   "outputs": [],
   "source": [
    "import numpy as np\n",
    "import scipy.stats as sp"
   ]
  },
  {
   "cell_type": "markdown",
   "metadata": {},
   "source": [
    "## 1) Photon characteristics\n",
    "\n",
    "To interpret the photoelectric effect, Albert Einstein makes in 1905 the revolutionary statement that light can be described as a flux of particles, this flux will be called **photons** afterwards."
   ]
  },
  {
   "cell_type": "markdown",
   "metadata": {},
   "source": [
    "The energy gap of the semiconductor in an LED is related to the threshold voltage of the LED and to the energy of light emitted by it. The relation is:\n",
    "\n",
    "$$ \\mathcal{E}_{gap} = \\mathcal{E}_{light} = e.U_{thereshold} $$\n",
    "\n",
    "The expresion for one photon's energy, associated to the monochromatic electromagnetic wave of frequency $\\nu$ and wavelenght $\\lambda$ is..."
   ]
  },
  {
   "cell_type": "markdown",
   "metadata": {},
   "source": [
    "$$ | \\Delta \\mathcal{E} | = h.\\nu $$ (1)"
   ]
  },
  {
   "cell_type": "markdown",
   "metadata": {},
   "source": [
    "This expression corresponds to a quantum of energy "
   ]
  },
  {
   "cell_type": "markdown",
   "metadata": {},
   "source": [
    "[CODATA](https://physics.nist.gov/cuu/Constants/)"
   ]
  },
  {
   "cell_type": "code",
   "execution_count": 43,
   "metadata": {},
   "outputs": [],
   "source": [
    "h=6.62607015e-34 # Planck constant in J.s\n",
    "e=1.602176565E-19 # Elementary charge in Coulomb (Definiton eV)\n",
    "c=299792458 # speed of light m/s"
   ]
  },
  {
   "cell_type": "markdown",
   "metadata": {},
   "source": [
    "## 2) The interactions between electrons and photons\n",
    "\n",
    "Diodes are electronic components that when submitted to a voltage $U_d$ are going to conduct a current $I_d$.\n",
    "\n",
    "___\n",
    "\n",
    "### 2.1) The experimental elucidation of Planck constant from a set of given values\n",
    "\n",
    "The light emitting diodes (LED) can be used to estimate the value of the Planck constant $h$. \n",
    "Diodes have a minimum threshold voltage (called $U_s$) that must be present between the anode and cathode in order for current to flow. LED emit light: the energy of an electron that is moving inside a LED is almost entirely converted into photon energy.\n",
    "\n",
    "The transfer of an electron into the LED is produced only if this electron contains a minimum energy called the threshold energy $\\mathcal{E}=e.U_s$ with $e$ the energy per volt, and $U_s$ the above mentioned voltage that can be measured from an $I_d = f(U)$ function.\n",
    "\n",
    "### 2.1.1) From problematic to the hypothesis \n",
    "\n",
    "The light emitted by a LED is almost monochromatic. The wavelenght $\\lambda$ of such monochromatic light is related to the potential $U_s$ by the fact that the electronic energy is considered to be integrally transmitted into light energy.\n",
    "\n"
   ]
  },
  {
   "cell_type": "markdown",
   "metadata": {},
   "source": [
    "$$ e.U_s=\\frac{h.c}{\\lambda} $$"
   ]
  },
  {
   "cell_type": "markdown",
   "metadata": {},
   "source": [
    "#### Question 1: \n",
    "\n",
    "What is the strong hypothesis that is made in this paragraph ?\n",
    "\n",
    "Answer 1:"
   ]
  },
  {
   "cell_type": "markdown",
   "metadata": {},
   "source": []
  },
  {
   "cell_type": "markdown",
   "metadata": {},
   "source": [
    "#### Question 2:\n",
    "\n",
    "Some experimenter provides you data with indetermination values. The red LED comes with a threshold given by:\n",
    "\n",
    "Us = (1.8 $\\pm$ 0.05) V\n",
    "\n",
    "The diode is placed in front of a spectrophotometer in order to identify the monochromatic wavelenght.\n",
    "\n",
    "$\\lambda$ = (635 $\\pm$ 25) nm\n",
    "\n",
    "Since the preceding equation can be reformulated as:\n",
    "\n",
    "$$h =\\frac{\\lambda . e . U_s}{c}$$\n",
    "\n",
    "$$ \\frac{\\Delta h}{h} = \\sqrt { ( \\frac{\\Delta \\lambda}{\\lambda} )^2+(\\frac{\\Delta U_s}{U_s})^2} $$\n",
    "\n",
    "\n",
    "Give the Planck constant **AND** the tolerance in the estimate of the Planck constant\n",
    "\n",
    "Answer 2:"
   ]
  },
  {
   "cell_type": "markdown",
   "metadata": {},
   "source": []
  },
  {
   "cell_type": "markdown",
   "metadata": {},
   "source": [
    "#### Question 3:\n",
    "\n",
    "A python code is proposed to make an estimation of the Planck constant with a random number generator:"
   ]
  },
  {
   "cell_type": "markdown",
   "metadata": {},
   "source": [
    "~~~python\n",
    "import numpy as np\n",
    "\n",
    "Us=[...,...] #Volts\n",
    "Lambda=[...,...] #nm\n",
    "\n",
    "def Alea(L):\n",
    "    return np.random.normal(L[0],L[1])\n",
    "\n",
    "# Simulation distribution\n",
    "d=[]\n",
    "Iteration=100000\n",
    "\n",
    "for j in range(Iteration):\n",
    "    Alea_h=...complete the code...\n",
    "    d.append(Alea_h)\n",
    "\n",
    "h=...complete the code...\n",
    "u_h=...complete the code...\n",
    "~~~\n",
    "\n",
    "Answer 3: replace the string \"...complete the code...\" by your own code"
   ]
  },
  {
   "cell_type": "code",
   "execution_count": 3,
   "metadata": {},
   "outputs": [],
   "source": [
    "Us=[1.8,0.05] #Volts\n",
    "Lambda=[635,25] #nm\n",
    "\n",
    "def Alea(L):\n",
    "    return np.random.normal(L[0],L[1])\n",
    "\n",
    "# Simulation distribution\n",
    "d=[]\n",
    "Iteration=100\n",
    "\n",
    "for j in range(Iteration):\n",
    "    Alea_h=e*Alea(Us)/c*Alea(Lambda)*1e-9\n",
    "    d.append(Alea_h)\n",
    "\n",
    "h=np.mean(d)\n",
    "u_h=np.std(d,ddof=1)"
   ]
  },
  {
   "cell_type": "code",
   "execution_count": 4,
   "metadata": {},
   "outputs": [
    {
     "name": "stdout",
     "output_type": "stream",
     "text": [
      "The estimation of the planck constant is  h=6.123593831210863e-34 +/- 2.6259263458866857e-35 J.s \n"
     ]
    }
   ],
   "source": [
    "print(\"The estimation of the planck constant is  h={} +/- {} J.s \".format(h,u_h))"
   ]
  },
  {
   "cell_type": "markdown",
   "metadata": {},
   "source": [
    "#### Question 4:\n",
    "\n",
    "Explicit if this value is compatible with the value given by the [CODATA](https://physics.nist.gov/cuu/Constants/) which is given to be $h=6.63 \\times 10^{-34}\\, J.s$  \n",
    "\n",
    "What can you infer from the hypothesis that have been stated in question 1.\n",
    "\n",
    "Answer 4:"
   ]
  },
  {
   "cell_type": "markdown",
   "metadata": {},
   "source": []
  },
  {
   "cell_type": "markdown",
   "metadata": {},
   "source": [
    "#### Question 5: \n",
    "\n",
    "Experimentaly the comparison of the energies can be logged by taking different diodes and polarizing them.\n"
   ]
  },
  {
   "cell_type": "markdown",
   "metadata": {},
   "source": [
    " - Take the time to reproduce an electrical schematic including:\n",
    "        - Generator\n",
    "        - Potentiometer\n",
    "        - LED diode\n",
    "        - Ammeter\n",
    "\n",
    " - Set up the experiment and take a photo from your setup \n",
    " \n",
    "        \n",
    "Include the schematic and the picture of this experiment and a caption of the figure in a cell \n",
    "\n",
    "Answer 5:"
   ]
  },
  {
   "cell_type": "markdown",
   "metadata": {},
   "source": []
  },
  {
   "cell_type": "markdown",
   "metadata": {},
   "source": [
    "### 2.1.2) Observation of the already given thereshold values\n",
    "\n",
    "The following code takes values that have been found by investigators."
   ]
  },
  {
   "cell_type": "code",
   "execution_count": 5,
   "metadata": {},
   "outputs": [],
   "source": [
    "import matplotlib.pyplot as plt\n",
    "from matplotlib.collections import PatchCollection\n",
    "from matplotlib.patches import Rectangle\n"
   ]
  },
  {
   "cell_type": "code",
   "execution_count": 6,
   "metadata": {},
   "outputs": [],
   "source": [
    "# Collected wavelenght\n",
    "Lambda = np.array([564,  591,  594,  610,  618,  625,  627,  635 ]) #Wavelength  (nm)\n",
    "\n",
    "# Thereshold voltage\n",
    "Us = np.array([2.  , 1.92, 1.96, 1.87, 1.88, 1.84, 1.83, 1.83]) #Voltage  (volts) "
   ]
  },
  {
   "cell_type": "markdown",
   "metadata": {},
   "source": [
    "#### Question 6:\n",
    "\n",
    "Write a function that converts all electromagnetic wave $\\lambda$ into a frequency\n",
    "\n",
    "Answer 6:"
   ]
  },
  {
   "cell_type": "code",
   "execution_count": 50,
   "metadata": {},
   "outputs": [],
   "source": [
    "def Lambda_to_freq (Lamb):\n",
    "    return c/Lamb*1E9"
   ]
  },
  {
   "cell_type": "markdown",
   "metadata": {},
   "source": [
    "#### Question 7:\n",
    "\n",
    "Display the energy as a function of the frequency, first as scatted plots of the experimental values and then also as the relation given by the equation (1).\n",
    "\n",
    "Answer 7:"
   ]
  },
  {
   "cell_type": "code",
   "execution_count": 8,
   "metadata": {},
   "outputs": [
    {
     "data": {
      "image/png": "[encoded data removed]",
      "text/plain": [
       "<Figure size 432x288 with 1 Axes>"
      ]
     },
     "metadata": {
      "needs_background": "light"
     },
     "output_type": "display_data"
    }
   ],
   "source": [
    "fig, ax = plt.subplots(1)\n",
    "color = 'cornflowerblue'\n",
    "\n",
    "plt.plot(Lambda_to_freq(Lambda),Us*e,'ro')\n",
    "\n",
    "line1 = ax.plot(Lambda_to_freq(Lambda),Lambda_to_freq(Lambda)*h,color=color, linewidth=3)\n",
    "\n",
    "\n",
    "ax.set_title('Comparing thereshold energies to the diode potential ')\n",
    "ax.set_ylabel('Energy en Joules')\n",
    "ax.set_xlabel('Frequency in Hz')\n",
    "\n",
    "plt.show()"
   ]
  },
  {
   "cell_type": "markdown",
   "metadata": {},
   "source": [
    "#### Question 8:\n",
    "\n",
    "Adjust the curves $I=f(U)$ to get experimental values of $U_s$ and present your data using the error boxes from the matplotlib function `Rectangle` and check how easy it is to compare the estimated Planck constants to the given [CODATA](https://physics.nist.gov/cuu/Constants/)  constant.\n",
    "\n",
    "\n",
    "Answer 8:"
   ]
  },
  {
   "cell_type": "markdown",
   "metadata": {},
   "source": [
    "\n"
   ]
  },
  {
   "cell_type": "code",
   "execution_count": 9,
   "metadata": {},
   "outputs": [],
   "source": [
    "# We define a frequency vector for the model curve (blue)\n",
    "x_freq = np.linspace(2e14, 9e14, 50)\n",
    "\n",
    "# We perform measures with n diodes of different colors (wavelenght)\n",
    "n = 7"
   ]
  },
  {
   "cell_type": "code",
   "execution_count": 10,
   "metadata": {},
   "outputs": [],
   "source": [
    "# Frequency in Hz\n",
    "x=np.array([644817769586128, 587298245554319, 521067635366404, \\\n",
    "            481789444711839, 429014075224636, 344114391643710, 322149643240920])\n",
    "\n",
    "# Energy in Joules\n",
    "y=np.array([4.3924840658427e-19,4.38005104100719e-19, \\\n",
    "            2.96054365271739e-19,2.92959971079545e-19,\\\n",
    "            2.97277008668142e-19,1.9134378608589e-19, \\\n",
    "            1.80498372512658e-19])\n",
    "\n"
   ]
  },
  {
   "cell_type": "code",
   "execution_count": 11,
   "metadata": {},
   "outputs": [],
   "source": [
    "x_incertitude=np.array([4645960916471,5176967884416,1856589297820,890410383959,7365048501710,34411439164371,32214964324091])\n",
    "y_incertitude=np.array([1.06960101953289e-19,4.10951115987721e-20,3.92167922795221e-20,4.46881252051324e-20,6.17540840635524e-21,4.31551340946717e-20,1.9754444268026e-20])\n",
    "\n",
    "\n",
    "xerr = np.array([x_incertitude,x_incertitude])\n",
    "yerr = np.array([y_incertitude,y_incertitude])\n"
   ]
  },
  {
   "cell_type": "code",
   "execution_count": 12,
   "metadata": {},
   "outputs": [],
   "source": [
    "def make_error_boxes(ax, xdata, ydata, xerror, yerror):\n",
    "    # Create list for all the error patches\n",
    "    errorboxes = []\n",
    "    # Loop over data points; create box from errors at each point\n",
    "    for x, y, xe, ye in zip(xdata, ydata, xerror.T, yerror.T):\n",
    "        rect = Rectangle((x - xe[0], y - ye[0]), xe.sum(), ye.sum())\n",
    "        errorboxes.append(rect)\n",
    "    # Create patch collection with specified colour/alpha\n",
    "    pc = PatchCollection(errorboxes, alpha=0.5)\n",
    "    # Add collection to axes\n",
    "    ax.add_collection(pc)\n",
    "    # Plot errorbars\n",
    "    artists = ax.errorbar(xdata, ydata, xerr=xerror, yerr=yerror,fmt='None', edgecolor='k')\n",
    "    return artists\n"
   ]
  },
  {
   "cell_type": "code",
   "execution_count": 13,
   "metadata": {
    "scrolled": true
   },
   "outputs": [
    {
     "data": {
      "image/png": "[encoded data removed]",
      "text/plain": [
       "<Figure size 432x288 with 1 Axes>"
      ]
     },
     "metadata": {
      "needs_background": "light"
     },
     "output_type": "display_data"
    }
   ],
   "source": [
    "# Create figure and axes\n",
    "fig, ax = plt.subplots(1)\n",
    "color = 'cornflowerblue'\n",
    "\n",
    "# Call function to create error boxes\n",
    "#_ = make_error_boxes(ax, x, y, xerr, yerr)\n",
    "\n",
    "make_error_boxes(ax, x, y, xerr, yerr)\n",
    "\n",
    "line1, =ax.plot(x,x*h,color=color, linewidth=3)\n",
    "line2, = ax.plot(x_freq, x_freq*h, dashes=[6, 2],color=color, linewidth=3)\n",
    "\n",
    "ax.set_title('Comparing thereshold energies to the diode potential ')\n",
    "ax.set_ylabel('Energy en Joules')\n",
    "ax.set_xlabel('Frequency in Hz')\n",
    "\n",
    "plt.show()"
   ]
  },
  {
   "cell_type": "markdown",
   "metadata": {},
   "source": [
    "### 2.2) Obtaining values from a simple LED circuit\n",
    "\n",
    "This part is inspired from an activity called : \"From LED light signboards to the Planck’s constant\".\n",
    "\n",
    "\n",
    "#### 2.2.1) The Energy \n",
    "\n",
    "$$\\mathcal{E}=e \\times V_F$$\n",
    "\n",
    "The idea is to measure the *Threshold Voltage*, obtained form the voltage $V_F$, and to relate it to a specified forward current intensity. This last intensity should never be higher than 100 mA therefore a resistor value of 220 $\\Omega$ is required.\n",
    "\n",
    "The here presented diode has a nominal wavelength of \"605 nm\" corresponding to an orange diode."
   ]
  },
  {
   "cell_type": "code",
   "execution_count": 3,
   "metadata": {},
   "outputs": [],
   "source": [
    "# Voltage in V\n",
    "V_l=[0.8869,\n",
    "1.2676,\n",
    "1.646,\n",
    "1.9516,\n",
    "1.9793,\n",
    "2.0135,\n",
    "2.0667,\n",
    "2.144]\n",
    "\n",
    "V=np.array(V_l)\n",
    "\n",
    "# Current in mA\n",
    "I_l=[0,\n",
    "5e-5,\n",
    "0.03148,\n",
    "6.209,\n",
    "7.433,\n",
    "8.923,\n",
    "11.485,\n",
    "15.526]\n",
    "\n",
    "I=np.array(I_l)\n"
   ]
  },
  {
   "cell_type": "code",
   "execution_count": 6,
   "metadata": {},
   "outputs": [
    {
     "data": {
      "text/plain": [
       "Text(0, 0.5, 'Forward current in mA')"
      ]
     },
     "execution_count": 6,
     "metadata": {},
     "output_type": "execute_result"
    },
    {
     "data": {
      "image/png": "[encoded data removed]",
      "text/plain": [
       "<Figure size 432x288 with 1 Axes>"
      ]
     },
     "metadata": {
      "needs_background": "light"
     },
     "output_type": "display_data"
    }
   ],
   "source": [
    "plt.plot(V,I,\"o\",color='orange')\n",
    "plt.grid()\n",
    "plt.xlabel(\"Forward voltage in V\")\n",
    "plt.ylabel(\"Forward current in mA\")"
   ]
  },
  {
   "cell_type": "code",
   "execution_count": 7,
   "metadata": {},
   "outputs": [
    {
     "data": {
      "text/plain": [
       "<matplotlib.collections.PathCollection at 0x7fed3afdbf60>"
      ]
     },
     "execution_count": 7,
     "metadata": {},
     "output_type": "execute_result"
    },
    {
     "data": {
      "image/png": "[encoded data removed]",
      "text/plain": [
       "<Figure size 432x288 with 1 Axes>"
      ]
     },
     "metadata": {
      "needs_background": "light"
     },
     "output_type": "display_data"
    }
   ],
   "source": [
    "V_end=V_l[::-1]\n",
    "V_fit=V_end[0:5]\n",
    "\n",
    "\n",
    "I_end=I_l[::-1]\n",
    "I_fit=I_end[0:5]\n",
    "\n",
    "plt.scatter(V_fit,I_fit)"
   ]
  },
  {
   "cell_type": "markdown",
   "metadata": {},
   "source": [
    "We need to exent the uncertainity by the means of a *t*  function in order to express data within 95% confidence"
   ]
  },
  {
   "cell_type": "code",
   "execution_count": 36,
   "metadata": {},
   "outputs": [],
   "source": [
    "# https://docs.scipy.org/doc/scipy/reference/generated/scipy.stats.linregress.html\n",
    "from scipy.stats import t\n",
    "tinv = lambda p, df: abs(t.ppf(p/2, df))\n",
    "\n",
    "ts = tinv(0.05, len(V_fit)-2)\n",
    "# This gets the data within (95%) confidence"
   ]
  },
  {
   "cell_type": "code",
   "execution_count": 38,
   "metadata": {},
   "outputs": [
    {
     "name": "stdout",
     "output_type": "stream",
     "text": [
      "a: 48.443 +/- 3.511\n",
      "b: -88.473 +/- 7.135\n"
     ]
    }
   ],
   "source": [
    "p, V= np.polyfit(V_fit, I_fit , 1,cov=True)\n",
    "\n",
    "print(\"a: {:.3f} +/- {:.3f}\".format(p[0], ts*np.sqrt(V[0][0])))\n",
    "print(\"b: {:.3f} +/- {:.3f}\".format(p[1], ts*np.sqrt(V[1][1])))"
   ]
  },
  {
   "cell_type": "code",
   "execution_count": 46,
   "metadata": {},
   "outputs": [
    {
     "name": "stdout",
     "output_type": "stream",
     "text": [
      "The thereshold voltage is 1.826 +/- 0.198 V\n",
      "The energy in Joule is 2.926 +/- 0.317 10-19 J\n"
     ]
    }
   ],
   "source": [
    "Vs=-p[1]/p[0]\n",
    "\n",
    "UVs=Vs*np.sqrt( (ts*np.sqrt(V[0][0])/p[0])**2 + (ts*np.sqrt(V[1][1])/p[1])**2 )\n",
    "\n",
    "print(\"The thereshold voltage is {:.3f} +/- {:.3f} V\".format(Vs,UVs))\n",
    "\n",
    "print(\"The energy in Joule is {:.3f} +/- {:.3f} 10^-19 J\".format(e*Vs*1e19,e*UVs*1e19))"
   ]
  },
  {
   "cell_type": "code",
   "execution_count": 48,
   "metadata": {},
   "outputs": [
    {
     "name": "stdout",
     "output_type": "stream",
     "text": [
      "The thereshold voltage is 1.826 V\n",
      "R-squared: 0.998446\n"
     ]
    }
   ],
   "source": [
    "# One can answer a question on quality of the regression\n",
    "# In case the R2 is required scipy may do the job\n",
    "\n",
    "lr = sp.linregress(V_fit, I_fit)\n",
    "\n",
    "Vs=-lr[1]/lr[0]\n",
    "\n",
    "print(\"The thereshold voltage is {:.3f} V\".format(Vs))\n",
    "print(f\"R-squared: {lr.rvalue**2:.6f}\")"
   ]
  },
  {
   "cell_type": "markdown",
   "metadata": {},
   "source": [
    "#### 2.2.1) The frequency\n",
    "\n",
    "$$ \\nu = \\frac{c}{\\lambda} $$ "
   ]
  },
  {
   "cell_type": "code",
   "execution_count": 62,
   "metadata": {},
   "outputs": [
    {
     "name": "stdout",
     "output_type": "stream",
     "text": [
      "The frequency associated with the orange LED is 0.4818 +/- 0.0009  10^15 Hz \n"
     ]
    }
   ],
   "source": [
    "lamb=np.array([621.1,623.4])\n",
    "# We apply the formula\n",
    "nu=Lambda_to_freq(lamb)\n",
    "\n",
    "print(\"The frequency associated with the orange LED is {:.4f} +/- {:.4f}  10^15 Hz \".format(nu.mean()*1e-15,nu.std()*1e-15))"
   ]
  },
  {
   "cell_type": "markdown",
   "metadata": {},
   "source": [
    "____\n",
    "\n",
    "## 3) The photoelectric effect\n",
    "\n",
    "The photoelectric effect concerns electron emisson by matter under the action of light. Some actual applications of this phenomenon include PV cells, photoconductors,  photodiodes (IR receptor), and many photonic devices such as optocouplers are also components that involve such effect.\n",
    "\n",
    "#### Question 9: \n",
    "Give some example of device that involves the light-matter interaction.\n",
    "\n",
    "Answer 9:"
   ]
  },
  {
   "cell_type": "markdown",
   "metadata": {},
   "source": []
  },
  {
   "cell_type": "markdown",
   "metadata": {},
   "source": [
    "The total energy that is given to a metal plate by the photon is:\n",
    "\n",
    "$$ h\\nu=\\mathcal{W}_e+\\mathcal{E}_{c,max} $$\n",
    "\n",
    "(2)\n",
    "\n",
    "$\\mathcal{W}_e$ is called the *work function* and must be considered to be linked to the electronic inderactions. Therefore it is the thereshold energy that is required to provide some cinetic energy."
   ]
  },
  {
   "cell_type": "markdown",
   "metadata": {},
   "source": [
    "## 3.1) Application to the emission of light\n",
    "\n",
    "When electromagnetic radiation of wavelength 300 nm falls on the surface of sodium, electrons are emitted with a kinetic energy of $1.68 \\times 10^5\\,J.mol^{-1}$. \n",
    "\n",
    "- What is the minimum energy needed to remove an electron from sodium? \n",
    "- What is the maximum wavelength that will cause a photoelectron to be emitted?"
   ]
  },
  {
   "cell_type": "code",
   "execution_count": 14,
   "metadata": {},
   "outputs": [
    {
     "name": "stdout",
     "output_type": "stream",
     "text": [
      "Energy by electron = 6.119357488174472e-19 J\n"
     ]
    }
   ],
   "source": [
    "# The energy (E) of a 300 nm photon is given by \n",
    "Lambda=300e-9 # wavelenght in m\n",
    "\n",
    "print(\"Energy by electron = {} J\".format(h*c/Lambda))"
   ]
  },
  {
   "cell_type": "code",
   "execution_count": 15,
   "metadata": {},
   "outputs": [
    {
     "name": "stdout",
     "output_type": "stream",
     "text": [
      "Energy by mol of electrons = 368507.70793786674 J\n"
     ]
    }
   ],
   "source": [
    "# Therefore, The energy of one mole of photons\n",
    "NAvogadro=6.022e23 # Units per mole\n",
    "\n",
    "print(\"Energy by mol of electrons = {} J\".format(h*c/Lambda*NAvogadro))"
   ]
  },
  {
   "cell_type": "code",
   "execution_count": 16,
   "metadata": {},
   "outputs": [
    {
     "name": "stdout",
     "output_type": "stream",
     "text": [
      "Work function by mol of electrons = 200507.70793786674 J\n"
     ]
    }
   ],
   "source": [
    "# The minimum energy needed to remove one mole of electrons from sodium\n",
    "Ec=1.68e5 # J.mol-1\n",
    "\n",
    "print(\"Work function by mol of electrons = {} J\".format(h*c/Lambda*NAvogadro-Ec))"
   ]
  },
  {
   "cell_type": "code",
   "execution_count": 17,
   "metadata": {},
   "outputs": [
    {
     "name": "stdout",
     "output_type": "stream",
     "text": [
      "Work function by electron = 3.3295866479220645e-19 J\n"
     ]
    }
   ],
   "source": [
    "# The minimum energy for one electron\n",
    "print(\"Work function by electron = {} J\".format((h*c/Lambda*NAvogadro-Ec)/NAvogadro))"
   ]
  },
  {
   "cell_type": "code",
   "execution_count": 18,
   "metadata": {},
   "outputs": [
    {
     "name": "stdout",
     "output_type": "stream",
     "text": [
      "Frequency of the light emitted by each electron = 543730812280814.06 Hz\n"
     ]
    }
   ],
   "source": [
    "# This correspond to the frequency given by equation (1)\n",
    "We=(h*c/Lambda*NAvogadro-Ec)/NAvogadro\n",
    "\n",
    "print(\"Frequency of the light emitted by each electron = {} Hz\".format(We/h))"
   ]
  },
  {
   "cell_type": "code",
   "execution_count": 19,
   "metadata": {},
   "outputs": [
    {
     "name": "stdout",
     "output_type": "stream",
     "text": [
      "Wavelenght of the light emitted by each electron = 551.3619078206108 nm\n"
     ]
    }
   ],
   "source": [
    "# Which can much coveniently be transformed into a wavelenght in nm\n",
    "f=We/h\n",
    "print(\"Wavelenght of the light emitted by each electron = {} nm\".format(c/f*1e9))"
   ]
  },
  {
   "cell_type": "markdown",
   "metadata": {},
   "source": [
    "## 3.2 Photoelectric Effect Simulator\n",
    "This is a visual simulation of the Photoelectric Effect, written in Python 3 and Pygame.\n",
    "\n",
    "https://github.com/DanPerry1808/PhotoelectricSim\n",
    "\n",
    "#### Download and Installation\n",
    "##### Download\n",
    "To download the program, go to the Releases section of this repo. There is an executable file for Windows, any other platforms will have to use the Universal version. Note that the universal version requires Python 3 and Pygame as dependencies. The universal version is practically the same as cloning the project via Git.\n",
    "##### Running the program (Windows)\n",
    "Extract the zip file and run Photoelectric.exe.\n",
    "##### Running the program (Universal)\n",
    "You will need Python 3 and Pygame installed for this to run.\n",
    "\n",
    "First run \n",
    "\n",
    "pip install pygame\n",
    "\n",
    "Extract the zip file, open the folder you extracted it to and open a terminal. Run the command `python3 photoelectric.py` make sure that the other file `dan_gui.py` is located at the same place.\n",
    "\n",
    "#### Using the software\n",
    "- Use the sliders and drop down boxes in the top-left section of the window to change different settings such as the light intensity, light wavelength, and incident metal.\n",
    "- You can create your own metals by clicking the Create New Metal button and filling in the details. The metal you created will be listed in the drop down menu.\n",
    "- You can save the values for wavelength, intensity and metal using the Save Values button to reload at a later time. These values are saved to a file and can be reloaded after closing and reopening the program.\n",
    "- These values as well as the custom metals can be deleted from the Storage Settings, found in the options menu in the top right.\n",
    "- Please note this simulation only displays electrons of the highest energy level.\n",
    "\n",
    "\n",
    "Copyright (c) 2019 Daniel Perry\n",
    "\n",
    "It was tested succesfully on python3.7 on the 5th of June 2021"
   ]
  },
  {
   "cell_type": "code",
   "execution_count": 20,
   "metadata": {},
   "outputs": [
    {
     "name": "stdout",
     "output_type": "stream",
     "text": [
      "Cloning into 'PhotoelectricSim'...\n",
      "remote: Enumerating objects: 26, done.\u001b[K\n",
      "remote: Total 26 (delta 0), reused 0 (delta 0), pack-reused 26\u001b[K\n",
      "Unpacking objects: 100% (26/26), done.\n"
     ]
    }
   ],
   "source": [
    "!git clone https://github.com/DillmannFrench/PhotoelectricSim"
   ]
  },
  {
   "cell_type": "markdown",
   "metadata": {},
   "source": [
    "#### Question n:\n",
    "\n",
    "Explain for what the observation conditions of the photoelectric effect are in contradiction with a purely ondulatory description of light.\n",
    "\n",
    "Answer 10:"
   ]
  },
  {
   "cell_type": "markdown",
   "metadata": {},
   "source": []
  },
  {
   "cell_type": "markdown",
   "metadata": {},
   "source": [
    "## 3.3) One experimental setup to observe photoelectric effect\n",
    "\n",
    "Some video tutorial can be seen before we introduce the experimental setup.\n",
    "\n",
    "https://www.youtube.com/watch?v=79QF7eMQ8VU\n",
    "\n",
    "https://www.youtube.com/watch?v=ALA8xJ3XF3A\n",
    "\n",
    "https://youtu.be/aOzzWKsbzLM (Polarisation of a photoelectric cell)"
   ]
  }
 ],
 "metadata": {
  "kernelspec": {
   "display_name": "Python 3",
   "language": "python",
   "name": "python3"
  },
  "language_info": {
   "codemirror_mode": {
    "name": "ipython",
    "version": 3
   },
   "file_extension": ".py",
   "mimetype": "text/x-python",
   "name": "python",
   "nbconvert_exporter": "python",
   "pygments_lexer": "ipython3",
   "version": "3.7.1"
  }
 },
 "nbformat": 4,
 "nbformat_minor": 2
}
