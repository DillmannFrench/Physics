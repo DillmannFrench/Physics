{
 "cells": [
  {
   "cell_type": "markdown",
   "metadata": {},
   "source": [
    "# Kinetics and the evolution of a system\n",
    "\n",
    "In this notebook we aim at checking the **order of a reaction** on the basis of data collected and stored in a file. \n",
    "\n",
    "This is going to be applied to any time-evolution of any chemical transformation.\n",
    "\n",
    "## Rate law from the function of concentration\n",
    "\n",
    "The goal is to calculate the order of reaction with respect to a reactant. As an example we will consider the spontaneous decomposition of oxygenated water $H_2O_2$: \n",
    "\n",
    "$$ 2\\,H_2O_2{(aq)} \\longrightarrow 2\\,H_2O_{(l)} \\,+\\, O_2{(aq)} $$\n",
    "\n",
    "we will first focus on the concentration of $[H_2O_2]$, that decreases as the reaction evolves.\n",
    "\n",
    "*The speed of a chemical reaction is to be defined as the change in concentration of a substance divided by the time interval during which this change is observed.*\n",
    "\n",
    "Our first approach will be based on this definition of the speed:\n",
    "\n",
    "\n",
    "$$v = \\frac{1}{V}\\frac{d \\,m_{H_2O_2}}{dt} = \\frac{d[H_2O_2]}{dt}$$"
   ]
  },
  {
   "cell_type": "code",
   "execution_count": 1,
   "metadata": {},
   "outputs": [],
   "source": [
    "%matplotlib inline"
   ]
  },
  {
   "cell_type": "code",
   "execution_count": 2,
   "metadata": {},
   "outputs": [],
   "source": [
    "import pandas as pd\n",
    "import numpy as np\n",
    "import matplotlib.pyplot as plt\n",
    "from scipy import stats"
   ]
  },
  {
   "cell_type": "code",
   "execution_count": 3,
   "metadata": {},
   "outputs": [
    {
     "data": {
      "text/html": [
       "<div>\n",
       "<style scoped>\n",
       "    .dataframe tbody tr th:only-of-type {\n",
       "        vertical-align: middle;\n",
       "    }\n",
       "\n",
       "    .dataframe tbody tr th {\n",
       "        vertical-align: top;\n",
       "    }\n",
       "\n",
       "    .dataframe thead th {\n",
       "        text-align: right;\n",
       "    }\n",
       "</style>\n",
       "<table border=\"1\" class=\"dataframe\">\n",
       "  <thead>\n",
       "    <tr style=\"text-align: right;\">\n",
       "      <th></th>\n",
       "      <th>Time (s)</th>\n",
       "      <th>C1 (mol/L)</th>\n",
       "      <th>C2 (mol/L)</th>\n",
       "    </tr>\n",
       "  </thead>\n",
       "  <tbody>\n",
       "    <tr>\n",
       "      <th>0</th>\n",
       "      <td>0</td>\n",
       "      <td>10.00</td>\n",
       "      <td>10.00</td>\n",
       "    </tr>\n",
       "    <tr>\n",
       "      <th>1</th>\n",
       "      <td>50</td>\n",
       "      <td>7.94</td>\n",
       "      <td>9.03</td>\n",
       "    </tr>\n",
       "    <tr>\n",
       "      <th>2</th>\n",
       "      <td>100</td>\n",
       "      <td>6.30</td>\n",
       "      <td>8.15</td>\n",
       "    </tr>\n",
       "    <tr>\n",
       "      <th>3</th>\n",
       "      <td>150</td>\n",
       "      <td>5.00</td>\n",
       "      <td>7.36</td>\n",
       "    </tr>\n",
       "    <tr>\n",
       "      <th>4</th>\n",
       "      <td>200</td>\n",
       "      <td>3.97</td>\n",
       "      <td>6.65</td>\n",
       "    </tr>\n",
       "    <tr>\n",
       "      <th>5</th>\n",
       "      <td>250</td>\n",
       "      <td>3.15</td>\n",
       "      <td>6.00</td>\n",
       "    </tr>\n",
       "    <tr>\n",
       "      <th>6</th>\n",
       "      <td>300</td>\n",
       "      <td>2.50</td>\n",
       "      <td>5.42</td>\n",
       "    </tr>\n",
       "    <tr>\n",
       "      <th>7</th>\n",
       "      <td>350</td>\n",
       "      <td>1.98</td>\n",
       "      <td>4.90</td>\n",
       "    </tr>\n",
       "    <tr>\n",
       "      <th>8</th>\n",
       "      <td>400</td>\n",
       "      <td>1.58</td>\n",
       "      <td>4.42</td>\n",
       "    </tr>\n",
       "    <tr>\n",
       "      <th>9</th>\n",
       "      <td>450</td>\n",
       "      <td>1.25</td>\n",
       "      <td>3.99</td>\n",
       "    </tr>\n",
       "    <tr>\n",
       "      <th>10</th>\n",
       "      <td>500</td>\n",
       "      <td>0.99</td>\n",
       "      <td>3.61</td>\n",
       "    </tr>\n",
       "    <tr>\n",
       "      <th>11</th>\n",
       "      <td>550</td>\n",
       "      <td>0.79</td>\n",
       "      <td>3.26</td>\n",
       "    </tr>\n",
       "    <tr>\n",
       "      <th>12</th>\n",
       "      <td>600</td>\n",
       "      <td>0.63</td>\n",
       "      <td>2.94</td>\n",
       "    </tr>\n",
       "    <tr>\n",
       "      <th>13</th>\n",
       "      <td>650</td>\n",
       "      <td>0.50</td>\n",
       "      <td>2.65</td>\n",
       "    </tr>\n",
       "    <tr>\n",
       "      <th>14</th>\n",
       "      <td>700</td>\n",
       "      <td>0.39</td>\n",
       "      <td>2.40</td>\n",
       "    </tr>\n",
       "    <tr>\n",
       "      <th>15</th>\n",
       "      <td>750</td>\n",
       "      <td>0.31</td>\n",
       "      <td>2.16</td>\n",
       "    </tr>\n",
       "  </tbody>\n",
       "</table>\n",
       "</div>"
      ],
      "text/plain": [
       "    Time (s)  C1 (mol/L)  C2 (mol/L)\n",
       "0          0       10.00       10.00\n",
       "1         50        7.94        9.03\n",
       "2        100        6.30        8.15\n",
       "3        150        5.00        7.36\n",
       "4        200        3.97        6.65\n",
       "5        250        3.15        6.00\n",
       "6        300        2.50        5.42\n",
       "7        350        1.98        4.90\n",
       "8        400        1.58        4.42\n",
       "9        450        1.25        3.99\n",
       "10       500        0.99        3.61\n",
       "11       550        0.79        3.26\n",
       "12       600        0.63        2.94\n",
       "13       650        0.50        2.65\n",
       "14       700        0.39        2.40\n",
       "15       750        0.31        2.16"
      ]
     },
     "execution_count": 3,
     "metadata": {},
     "output_type": "execute_result"
    }
   ],
   "source": [
    "\n",
    "C = pd.read_csv('data_kinetics.csv')\n",
    "\n",
    "# two series of experiments have been conducted\n",
    "# C.columns # to display the descriptor of each column\n",
    "C"
   ]
  },
  {
   "cell_type": "markdown",
   "metadata": {},
   "source": [
    "#### Question 1: "
   ]
  },
  {
   "cell_type": "code",
   "execution_count": 4,
   "metadata": {},
   "outputs": [],
   "source": [
    "t,x,y = np.loadtxt(fname='data_kinetics.csv',unpack=True,usecols=(0,1,2),delimiter=\",\",skiprows=1)"
   ]
  },
  {
   "cell_type": "markdown",
   "metadata": {},
   "source": [
    "Data analysis is one of the most used techniques.\n",
    "\n",
    "Investigate the data above: opening the file can also be done using `numpy` library even if `pandas` is the most used one. Give a precise definition of the following parameters:\n",
    "\n",
    "- fname \n",
    "- unpack\n",
    "- usecols\n",
    "- delimiter\n",
    "- skiprows\n",
    "\n",
    "Answer 1:"
   ]
  },
  {
   "cell_type": "markdown",
   "metadata": {},
   "source": []
  },
  {
   "cell_type": "code",
   "execution_count": 5,
   "metadata": {},
   "outputs": [],
   "source": [
    "# The expression of the concentration\n",
    "c1 = C[\"C1 (mol/L)\"]\n",
    "C1 = np.array(c1)\n",
    "\n",
    "\n",
    "# The expression of acquisition time \n",
    "# each times step is 50s from the following\n",
    "t = C[\"Time (s)\"]\n",
    "t = np.array(t)"
   ]
  },
  {
   "cell_type": "markdown",
   "metadata": {},
   "source": [
    "If we consider a reagent, whose concentration is $[H_2O_2]$ and called `c` in the code, and we acquire such concentrations at equally spaced times $t_i$. For $i$ ranging from `0` to `len(c)-1` the speed is:\n",
    "$$ v_i = - \\dfrac{[H_2O_2]_{i+1}-[H_2O_2]_i}{t_{i+1}-t_i} $$"
   ]
  },
  {
   "cell_type": "code",
   "execution_count": 6,
   "metadata": {},
   "outputs": [],
   "source": [
    "# Declaration of variables:\n",
    "\n",
    "c = C1 # Fetch c from imported table\n",
    "v = np.diff(c)/50 # calculate the speed\n",
    "c = np.delete(c, len(c)-1, 0) # remove the last point of c"
   ]
  },
  {
   "cell_type": "code",
   "execution_count": 7,
   "metadata": {},
   "outputs": [
    {
     "data": {
      "image/png": "[encoded data removed]",
      "text/plain": [
       "<Figure size 432x288 with 1 Axes>"
      ]
     },
     "metadata": {
      "needs_background": "light"
     },
     "output_type": "display_data"
    }
   ],
   "source": [
    "# Visualisation of the data\n",
    "t=np.array(C[\"Time (s)\"])\n",
    "t=np.delete(t, len(t)-1, 0)# remove the last point of t\n",
    "# Be careful the array t has been modified\n",
    "\n",
    "plt.plot(t,v,marker= '+',color='blue')\n",
    "plt.xlabel('Time in seconds')\n",
    "plt.ylabel('Volumic speed in (mol/L/s)')\n",
    "plt.title('Time evolution of speed')\n",
    "plt.show()"
   ]
  },
  {
   "cell_type": "code",
   "execution_count": 8,
   "metadata": {},
   "outputs": [
    {
     "name": "stdout",
     "output_type": "stream",
     "text": [
      "The predicted linear model is \"v = a x c + b\" whose characteristics are: \n",
      " a = -0.004123383030417634\n",
      " b = -8.313270752246388e-06\n"
     ]
    },
    {
     "data": {
      "image/png": "[encoded data removed]",
      "text/plain": [
       "<Figure size 432x288 with 1 Axes>"
      ]
     },
     "metadata": {
      "needs_background": "light"
     },
     "output_type": "display_data"
    }
   ],
   "source": [
    "# Linear Regression\n",
    "a, b, r, p, err = stats.linregress(c, v)\n",
    "print ('The predicted linear model is \"v = a x c + b\" whose characteristics are: \\n a = ' + str(a) + '\\n b = ' + str(b))\n",
    "\n",
    "# Figure plot of the speed and its linear predicted model \n",
    "# As a function of concentration\n",
    "plt.scatter(c, v, marker = '+', color = 'blue')\n",
    "plt.plot(c, a*c+b, color = 'red')\n",
    "\n",
    "plt.xlabel('Concentration in (mol/L)')\n",
    "plt.ylabel('Volumic speed of disapearence (mol/L/s)')\n",
    "plt.title('Speed evolution as a function of \\n the reactive concentration')\n",
    "plt.show()\n"
   ]
  },
  {
   "cell_type": "markdown",
   "metadata": {},
   "source": [
    "From this we can infer that the reaction follows a first order rate law\n",
    "\n",
    "$$ v=k[H_2O_2] $$\n",
    "\n",
    "with \n",
    "- $k$ being the reaction rate coefficient in $s^{-1}$\n",
    "- $v$ the volumic speed of disapearance in $mol.L^{-1}.s^{-1}$\n",
    "- $[H_2O_2]$ the concentration of the reactant $H_2O_2(aq)$ in $mol.L^{-1}$"
   ]
  },
  {
   "cell_type": "markdown",
   "metadata": {},
   "source": [
    "___"
   ]
  },
  {
   "cell_type": "markdown",
   "metadata": {},
   "source": [
    "\n",
    "We consider how to derive a rate law from this reaction.\n",
    "\n",
    "$$ \\dfrac{[H_2O_2]_t}{[H_2O_2]_0} = e^{-kt} $$\n",
    "\n",
    "## The Differential Representation\n",
    "\n",
    "Another way to calculate the reaction rate is to involve a differential equation:\n",
    "\n",
    "$$Rate = - \\dfrac{d[H_2O_2]}{dt} = k[H_2O_2]^1 = k[H_2O_2] \\label{1}$$"
   ]
  },
  {
   "cell_type": "code",
   "execution_count": 9,
   "metadata": {},
   "outputs": [
    {
     "data": {
      "text/plain": [
       "Text(0, 0.5, 'H2O2 Concentration in mol/L')"
      ]
     },
     "execution_count": 9,
     "metadata": {},
     "output_type": "execute_result"
    },
    {
     "data": {
      "image/png": "[encoded data removed]",
      "text/plain": [
       "<Figure size 432x288 with 1 Axes>"
      ]
     },
     "metadata": {
      "needs_background": "light"
     },
     "output_type": "display_data"
    }
   ],
   "source": [
    "# Representation of the data collected \n",
    "t = C[\"Time (s)\"]\n",
    "t = np.array(t)\n",
    "\n",
    "plt.plot(t,x,marker= 'o', color='red')\n",
    "\n",
    "plt.xlabel(\"Time in seconds\")\n",
    "plt.ylabel(\"H2O2 Concentration in mol/L\")"
   ]
  },
  {
   "cell_type": "code",
   "execution_count": 10,
   "metadata": {},
   "outputs": [
    {
     "data": {
      "image/png": "[encoded data removed]",
      "text/plain": [
       "<Figure size 432x288 with 1 Axes>"
      ]
     },
     "metadata": {
      "needs_background": "light"
     },
     "output_type": "display_data"
    }
   ],
   "source": [
    "# Perform an curve fit\n",
    "\n",
    "from scipy.optimize import curve_fit\n",
    "\n",
    "def exp_func(t, a, b, c):\n",
    "    return a * np.exp(-b * t) + c\n",
    "\n",
    "time = t\n",
    "cdf = x\n",
    "popt, pcov = curve_fit(exp_func, t, x, bounds=(0, [10, 0.1, 1]))\n",
    "plt.plot(t, x,'b.')\n",
    "plt.plot(t, exp_func(t, *popt), 'r-', label='fit: a=%5.3f, b=%5.3f, c=%5.3f' % tuple(popt))\n",
    "plt.ylabel('Concentration in (mol/L)')\n",
    "plt.xlabel('Time in seconds')\n",
    "plt.legend()\n",
    "plt.show()"
   ]
  },
  {
   "cell_type": "markdown",
   "metadata": {},
   "source": [
    "Note that there is a need to Constrain the optimization to the region of  $$0 \\leq a \\leq 10$$  $$0 \\leq  b \\leq 0.1$$ $$0 \\leq c \\leq 1$$\n"
   ]
  },
  {
   "cell_type": "code",
   "execution_count": 11,
   "metadata": {},
   "outputs": [
    {
     "name": "stdout",
     "output_type": "stream",
     "text": [
      "-0.004123383030417634\n",
      "-0.004620963839771338\n"
     ]
    }
   ],
   "source": [
    "# Compare the two methods to extract the constant k\n",
    "\n",
    "# Method 1: Getting the slope of the logarithm from the volumetric speed\n",
    "\n",
    "c = C1 # Fetch c from imported table\n",
    "v = np.diff(c)/50 # calculate the speed\n",
    "c = np.delete(c, len(c)-1, 0) # remove the last point of c\n",
    "\n",
    "a1, b, r, p, err = stats.linregress(c, v)\n",
    "print(a1)\n",
    "\n",
    "# Method 2: Fitting directly the exponential curve\n",
    "\n",
    "\n",
    "a,b2,c=tuple(popt)\n",
    "print(-b2) # Exponential factor"
   ]
  },
  {
   "cell_type": "markdown",
   "metadata": {},
   "source": [
    "#### Question 2:\n",
    "\n",
    "Make the same analysis for the set of data that is in column 2\n",
    "\n",
    "Answer 2:"
   ]
  },
  {
   "cell_type": "markdown",
   "metadata": {},
   "source": [
    "## Problem\n",
    "\n",
    "On a bottle of oxygenated water $H_2O_2$, the label states: *\"Hydrogen peroxide stabilised at 110 volumes, it contains approximately 30% by weight of hydrogen peroxide and is capable of releasing approximately 110 times its volume of gaseous oxygen under standard conditions of temperature (273 K) and pressure (1.013 bar)\"*. Determine the concentration of $H_2O_2$ and the precise percentage by mass knowing that the density of the solution is $d=1.114$.\n",
    "\n",
    "One liter of $H_2O_2$ produces 110 liters of molecular oxygen folowing the dismutation relation:\n",
    "\n",
    "$$ H_2O_2{(aq)} \\longrightarrow H_2O_{(l)} \\,+\\,\\frac{1}{2} \\,O_2{(aq)} $$\n",
    "\n",
    "Calulate the number of moles of dioxygen obtained.\n",
    "\n",
    "$$n_{O_2} = PV/RT $$"
   ]
  },
  {
   "cell_type": "code",
   "execution_count": 14,
   "metadata": {},
   "outputs": [
    {
     "name": "stdout",
     "output_type": "stream",
     "text": [
      "The number of moles of dioxygen is 0 mol\n"
     ]
    }
   ],
   "source": [
    "# Numerical application\n",
    "P=1.013E5#Pascal for one atmosphere\n",
    "V=110*1E-3#m3 of dioxygen gaz\n",
    "R=8.314#SI perfect gas constant\n",
    "T=273#Temperature in Kelvin\n",
    "\n",
    "#Write the literal expression of the \n",
    "#number of moles ?\n",
    "\n",
    "n_O2=0\n",
    "\n",
    "print(\"The number of moles of dioxygen is {} mol\".format(n_O2))"
   ]
  },
  {
   "cell_type": "code",
   "execution_count": 18,
   "metadata": {},
   "outputs": [],
   "source": [
    "# Using the stochiometry of the reaction infer how many moles for H2O2\n",
    "n_H2O2=0"
   ]
  },
  {
   "cell_type": "code",
   "execution_count": 19,
   "metadata": {},
   "outputs": [],
   "source": [
    "# Using the molar mass of H2O2 we infer the mass of the n_H2O2 moles\n",
    "# M_H2O2 = 34.0147 g/mol\n",
    "\n",
    "M_H2O2 = 34.0147#g/mol\n",
    "\n",
    "m_1_H2O2=M_H2O2*n_H2O2"
   ]
  },
  {
   "cell_type": "code",
   "execution_count": 21,
   "metadata": {},
   "outputs": [],
   "source": [
    "# Give the actual mass of H2O2 and divide by the total mass of one liter of such sample given the density\n",
    "# d_H2O is one kilogram per liter.\n",
    "\n",
    "d_H2O=1#kg per Liter\n",
    "d_H2O2=1.114*d_H2O#kg per Liter\n",
    "m_2_H2O2=d_H2O2/d_H2O*1#Mass in Kg"
   ]
  },
  {
   "cell_type": "code",
   "execution_count": 22,
   "metadata": {},
   "outputs": [
    {
     "data": {
      "text/plain": [
       "0.0"
      ]
     },
     "execution_count": 22,
     "metadata": {},
     "output_type": "execute_result"
    }
   ],
   "source": [
    "# What is the massic in percentage ?\n",
    "m_1_H2O2/m_2_H2O2*100"
   ]
  },
  {
   "cell_type": "markdown",
   "metadata": {},
   "source": [
    "#### Questions 3:\n",
    "\n",
    "Commercial oxygenated water is **10 Vol** considering the same resolution give the percentage which is expected.\n",
    "\n",
    "**Answer:**"
   ]
  },
  {
   "cell_type": "code",
   "execution_count": null,
   "metadata": {},
   "outputs": [],
   "source": []
  },
  {
   "cell_type": "markdown",
   "metadata": {},
   "source": [
    "____"
   ]
  },
  {
   "cell_type": "code",
   "execution_count": 1,
   "metadata": {},
   "outputs": [],
   "source": [
    "M=166.0028# g/mol"
   ]
  },
  {
   "cell_type": "code",
   "execution_count": 2,
   "metadata": {},
   "outputs": [],
   "source": [
    "V=0.1# L"
   ]
  },
  {
   "cell_type": "code",
   "execution_count": 3,
   "metadata": {},
   "outputs": [
    {
     "data": {
      "text/plain": [
       "1660.028"
      ]
     },
     "execution_count": 3,
     "metadata": {},
     "output_type": "execute_result"
    }
   ],
   "source": [
    "M/V"
   ]
  },
  {
   "cell_type": "code",
   "execution_count": 6,
   "metadata": {},
   "outputs": [
    {
     "name": "stdout",
     "output_type": "stream",
     "text": [
      "0.30119973879958645\n"
     ]
    }
   ],
   "source": [
    "m=5#g\n",
    "n=m/M\n",
    "c=n/V\n",
    "print(c)"
   ]
  },
  {
   "cell_type": "code",
   "execution_count": null,
   "metadata": {},
   "outputs": [],
   "source": []
  }
 ],
 "metadata": {
  "kernelspec": {
   "display_name": "Python 3",
   "language": "python",
   "name": "python3"
  },
  "language_info": {
   "codemirror_mode": {
    "name": "ipython",
    "version": 3
   },
   "file_extension": ".py",
   "mimetype": "text/x-python",
   "name": "python",
   "nbconvert_exporter": "python",
   "pygments_lexer": "ipython3",
   "version": "3.7.1"
  }
 },
 "nbformat": 4,
 "nbformat_minor": 2
}
